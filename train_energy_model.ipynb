{
 "cells": [
  {
   "cell_type": "code",
   "execution_count": 2,
   "metadata": {},
   "outputs": [],
   "source": [
    "import numpy as np\n",
    "from matplotlib import pyplot as plt\n",
    "import os\n",
    "import glob\n",
    "%matplotlib inline\n",
    "from scipy.stats import zscore\n",
    "import imp\n",
    "# modules\n",
    "import decoders, utils, tuning, learning, mainfigs, suppfigs\n",
    "\n",
    "### WHERE YOU DOWNLOADED THE FIGSHARE\n",
    "dataroot = 'Z:/releases/stringer-et-al-2019a/fs125'\n",
    "\n",
    "# file list\n",
    "db = np.load(os.path.join(dataroot, 'database.npy'), allow_pickle=True)\n",
    "fs = []\n",
    "for di in db:\n",
    "    mname = di['mouse_name']\n",
    "    datexp = di['date']\n",
    "    blk = di['block']\n",
    "    stype = di['expt']\n",
    "    \n",
    "    fname = '%s_%s_%s_%s.npy'%(stype, mname, datexp, blk)\n",
    "    fs.append(os.path.join(dataroot, fname))\n",
    "\n",
    "### WHERE YOU WANT TO SAVE THE OUTPUTS OF THE ANALYSIS SCRIPTS AND THE FIGURES (if save_figure=True)\n",
    "saveroot = 'D:\\DATA\\stringer-etal2019'"
   ]
  },
  {
   "cell_type": "code",
   "execution_count": 32,
   "metadata": {},
   "outputs": [],
   "source": [
    "f = fs[0]\n",
    "dat = np.load(f, allow_pickle=True).item()\n",
    "sresp, istim, itrain, itest = utils.compile_resp(dat, npc=32)\n",
    "\n",
    "x = sresp[:, itrain]\n",
    "y = istim[itrain]\n",
    "NN, NT = np.shape(sresp)\n"
   ]
  },
  {
   "cell_type": "code",
   "execution_count": 6,
   "metadata": {},
   "outputs": [],
   "source": [
    "th_range = np.arange(0, 2*np.pi, 2*np.pi/360)\n",
    "rcos = np.cos(th_range)\n",
    "rsin = np.sin(th_range)\n",
    "\n",
    "def log_prob(a):\n",
    "    atx = a[0].T @ x\n",
    "    btx = a[1].T @ x\n",
    "    \n",
    "    Z = atx * rcos[:, np.newaxis] + btx * rsin[:, np.newaxis]\n",
    "    Zmax = np.max(Z, axis=0)\n",
    "    \n",
    "    Z = np.exp(Z-Zmax)\n",
    "    Zsum = np.sum(Z,axis=0)\n",
    "\n",
    "    logL = np.mean(atx * np.cos(y) + btx * np.sin(y) - np.log(Zsum) - Zmax)\n",
    "\n",
    "    Zcos = rcos.T @ Z / Zsum\n",
    "    Zsin = rsin.T @ Z / Zsum\n",
    "    \n",
    "    da = (x @ (np.cos(y) - Zcos))#/x.shape[1]\n",
    "    db = (x @ (np.sin(y) - Zsin))#/x.shape[1]\n",
    "    \n",
    "    return logL, np.stack((da,db))\n",
    "    \n",
    "    "
   ]
  },
  {
   "cell_type": "code",
   "execution_count": 29,
   "metadata": {},
   "outputs": [
    {
     "name": "stdout",
     "output_type": "stream",
     "text": [
      "-5.886107559374568\n",
      "-0.4387410879499554\n",
      "-0.16913275074296877\n",
      "-0.15764865463476466\n",
      "-0.15310199531616198\n",
      "-0.14904430211714798\n"
     ]
    }
   ],
   "source": [
    "a = np.random.randn(2, NN)/1e7 # initializdr with very small values\n",
    "\n",
    "eps0 = 0.05 # learning rate\n",
    "niter = 501\n",
    "lam = .0 # regularization parameter, makes fitting unstable\n",
    "\n",
    "logL = np.zeros(niter,)\n",
    "pa = np.zeros(a.shape)\n",
    "\n",
    "for it in range(niter):    \n",
    "    logL[it], da = log_prob(a)\n",
    "    \n",
    "    pa = .95 * pa + .05 * (da - lam * a)\n",
    "    \n",
    "    if it<20:\n",
    "        eps = eps0/(20-it)\n",
    "    a += eps * pa    \n",
    "    \n",
    "    if it%100==0:\n",
    "        print(logL[it])\n"
   ]
  },
  {
   "cell_type": "code",
   "execution_count": 27,
   "metadata": {},
   "outputs": [
    {
     "data": {
      "text/plain": [
       "[<matplotlib.lines.Line2D at 0x27b8e382780>]"
      ]
     },
     "execution_count": 27,
     "metadata": {},
     "output_type": "execute_result"
    },
    {
     "data": {
      "image/png": "[encoded data removed]",
      "text/plain": [
       "<Figure size 432x288 with 1 Axes>"
      ]
     },
     "metadata": {
      "needs_background": "light"
     },
     "output_type": "display_data"
    }
   ],
   "source": [
    "plt.plot(logL[:it])"
   ]
  },
  {
   "cell_type": "code",
   "execution_count": 30,
   "metadata": {},
   "outputs": [
    {
     "data": {
      "text/plain": [
       "2.149023215611123"
      ]
     },
     "execution_count": 30,
     "metadata": {},
     "output_type": "execute_result"
    }
   ],
   "source": [
    "dx = a[0].T @ sresp[:, itest]\n",
    "dy = a[1].T @ sresp[:, itest]\n",
    "\n",
    "apred = np.angle(dx + 1j * dy)\n",
    "apred[apred<0] = apred[apred<0] + 2*np.pi\n",
    "\n",
    "nangle = 2*np.pi\n",
    "error = istim[itest] - apred\n",
    "error = np.remainder(error, nangle)\n",
    "error[error > nangle/2] = error[error > nangle/2] - nangle\n",
    "\n",
    "np.median(np.abs(error)) * 180/np.pi"
   ]
  },
  {
   "cell_type": "code",
   "execution_count": 1,
   "metadata": {},
   "outputs": [
    {
     "ename": "NameError",
     "evalue": "name 'plt' is not defined",
     "output_type": "error",
     "traceback": [
      "\u001b[1;31m---------------------------------------------------------------------------\u001b[0m",
      "\u001b[1;31mNameError\u001b[0m                                 Traceback (most recent call last)",
      "\u001b[1;32m<ipython-input-1-807a70c7e323>\u001b[0m in \u001b[0;36m<module>\u001b[1;34m\u001b[0m\n\u001b[1;32m----> 1\u001b[1;33m \u001b[0mplt\u001b[0m\u001b[1;33m.\u001b[0m\u001b[0mplot\u001b[0m\u001b[1;33m(\u001b[0m\u001b[0merror\u001b[0m\u001b[1;33m)\u001b[0m\u001b[1;33m\u001b[0m\u001b[1;33m\u001b[0m\u001b[0m\n\u001b[0m",
      "\u001b[1;31mNameError\u001b[0m: name 'plt' is not defined"
     ]
    }
   ],
   "source": [
    "plt.plot(error)"
   ]
  }
 ],
 "metadata": {
  "kernelspec": {
   "display_name": "Python 3",
   "language": "python",
   "name": "python3"
  },
  "language_info": {
   "codemirror_mode": {
    "name": "ipython",
    "version": 3
   },
   "file_extension": ".py",
   "mimetype": "text/x-python",
   "name": "python",
   "nbconvert_exporter": "python",
   "pygments_lexer": "ipython3",
   "version": "3.7.3"
  }
 },
 "nbformat": 4,
 "nbformat_minor": 2
}
